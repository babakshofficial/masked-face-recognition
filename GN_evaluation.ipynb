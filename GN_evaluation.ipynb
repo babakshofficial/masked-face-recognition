{
 "cells": [
  {
   "cell_type": "code",
   "execution_count": 37,
   "metadata": {
    "ExecuteTime": {
     "end_time": "2024-11-15T18:43:24.727712Z",
     "start_time": "2024-11-15T18:43:24.725687Z"
    }
   },
   "outputs": [],
   "source": [
    "# !pip install keras_cv_attention_models"
   ]
  },
  {
   "cell_type": "code",
   "execution_count": 38,
   "metadata": {
    "ExecuteTime": {
     "end_time": "2024-11-15T18:43:24.731621Z",
     "start_time": "2024-11-15T18:43:24.729167Z"
    }
   },
   "outputs": [],
   "source": [
    "import evals\n",
    "from tensorflow import keras\n",
    "import tensorflow as tf\n",
    "import matplotlib.pyplot as plt\n",
    "import keras_cv_attention_models\n",
    "import GhostFaceNets, GhostFaceNets_with_Bias"
   ]
  },
  {
   "cell_type": "code",
   "execution_count": 39,
   "metadata": {
    "ExecuteTime": {
     "end_time": "2024-11-15T18:43:24.734390Z",
     "start_time": "2024-11-15T18:43:24.732763Z"
    }
   },
   "outputs": [],
   "source": [
    "# gpus = tf.config.experimental.list_physical_devices(\"GPU\")\n",
    "# for gpu in gpus:\n",
    "#     tf.config.experimental.set_memory_growth(gpu, True)\n",
    "# print(tf.config.list_physical_devices('GPU'))"
   ]
  },
  {
   "cell_type": "code",
   "execution_count": 40,
   "metadata": {
    "ExecuteTime": {
     "end_time": "2024-11-15T18:43:26.483174Z",
     "start_time": "2024-11-15T18:43:24.735217Z"
    }
   },
   "outputs": [],
   "source": [
    "PCA_model = keras.models.load_model('GN_W1.3_S2_ArcFace_epoch48.h5', compile=False)"
   ]
  },
  {
   "cell_type": "code",
   "execution_count": 41,
   "metadata": {
    "ExecuteTime": {
     "end_time": "2024-11-15T18:43:30.463382Z",
     "start_time": "2024-11-15T18:43:26.484896Z"
    }
   },
   "outputs": [
    {
     "name": "stderr",
     "output_type": "stream",
     "text": [
      "/Users/babakshahriari/Desktop/projects/Paper #2/MFV/.venv/lib/python3.8/site-packages/keras/src/initializers/initializers.py:120: UserWarning: The initializer VarianceScaling is unseeded and being called multiple times, which will return identical values each time (even if the initializer is unseeded). Please update your code to provide a seed to the initializer, or avoid using the same initializer instance more than once.\n",
      "  warnings.warn(\n"
     ]
    },
    {
     "name": "stdout",
     "output_type": "stream",
     "text": [
      ">>>> Change BatchNormalization momentum and epsilon default value.\n",
      ">>>> Convert ReLU: activation_96 --> activation_96\n",
      ">>>> Convert ReLU: activation_97 --> activation_97\n",
      ">>>> Convert ReLU: activation_98 --> activation_98\n",
      ">>>> Convert ReLU: activation_99 --> activation_99\n",
      ">>>> Convert ReLU: activation_100 --> activation_100\n",
      ">>>> Convert ReLU: activation_101 --> activation_101\n",
      ">>>> Convert ReLU: activation_102 --> activation_102\n",
      ">>>> Convert ReLU: activation_103 --> activation_103\n",
      ">>>> Convert ReLU: activation_104 --> activation_104\n",
      ">>>> Convert ReLU: activation_105 --> activation_105\n",
      ">>>> Convert ReLU: activation_107 --> activation_107\n",
      ">>>> Convert ReLU: activation_108 --> activation_108\n",
      ">>>> Convert ReLU: activation_109 --> activation_109\n",
      ">>>> Convert ReLU: activation_111 --> activation_111\n",
      ">>>> Convert ReLU: activation_112 --> activation_112\n",
      ">>>> Convert ReLU: activation_113 --> activation_113\n",
      ">>>> Convert ReLU: activation_114 --> activation_114\n",
      ">>>> Convert ReLU: activation_115 --> activation_115\n",
      ">>>> Convert ReLU: activation_116 --> activation_116\n",
      ">>>> Convert ReLU: activation_117 --> activation_117\n",
      ">>>> Convert ReLU: activation_118 --> activation_118\n",
      ">>>> Convert ReLU: activation_119 --> activation_119\n",
      ">>>> Convert ReLU: activation_120 --> activation_120\n",
      ">>>> Convert ReLU: activation_121 --> activation_121\n",
      ">>>> Convert ReLU: activation_123 --> activation_123\n",
      ">>>> Convert ReLU: activation_124 --> activation_124\n",
      ">>>> Convert ReLU: activation_125 --> activation_125\n",
      ">>>> Convert ReLU: activation_127 --> activation_127\n",
      ">>>> Convert ReLU: activation_128 --> activation_128\n",
      ">>>> Convert ReLU: activation_129 --> activation_129\n",
      ">>>> Convert ReLU: activation_131 --> activation_131\n",
      ">>>> Convert ReLU: activation_132 --> activation_132\n",
      ">>>> Convert ReLU: activation_133 --> activation_133\n",
      ">>>> Convert ReLU: activation_134 --> activation_134\n",
      ">>>> Convert ReLU: activation_135 --> activation_135\n",
      ">>>> Convert ReLU: activation_137 --> activation_137\n",
      ">>>> Convert ReLU: activation_138 --> activation_138\n",
      ">>>> Convert ReLU: activation_139 --> activation_139\n",
      ">>>> Convert ReLU: activation_140 --> activation_140\n",
      ">>>> Convert ReLU: activation_141 --> activation_141\n",
      ">>>> Convert ReLU: activation_143 --> activation_143\n",
      "WARNING:tensorflow:Skipping loading of weights for layer #294 (named GDC_conv) due to mismatch in number of weights. Layer expects 2 weight(s). Received 1 saved weight(s)\n"
     ]
    }
   ],
   "source": [
    "#If the above did not work, then you need to build the model then load the weights. e.g.,\n",
    "PCA_model = GhostFaceNets_with_Bias.buildin_models(\"ghostnetv1\", dropout=0, emb_shape=512, output_layer='GDC', bn_momentum=0.9, bn_epsilon=1e-5)\n",
    "PCA_model = GhostFaceNets_with_Bias.add_l2_regularizer_2_model(PCA_model, weight_decay=5e-4, apply_to_batch_normal=False)\n",
    "PCA_model = GhostFaceNets_with_Bias.replace_ReLU_with_PReLU(PCA_model, target_activation='PReLU')\n",
    "\n",
    "PCA_model.load_weights('GN_W1.3_S2_ArcFace_epoch48.h5', by_name=True, skip_mismatch=True)"
   ]
  },
  {
   "cell_type": "code",
   "outputs": [],
   "source": [
    "# ee = evals.eval_callback(PCA_model, 'lfw.bin', batch_size=256, flip=True, PCA_acc=True)\n",
    "# ee.on_epoch_end(0)\n",
    "# \n",
    "# ee = evals.eval_callback(PCA_model, 'cbam_lfw.bin', batch_size=256, flip=True, PCA_acc=True)\n",
    "# ee.on_epoch_end(0)\n",
    "# \n",
    "# ee = evals.eval_callback(PCA_model, 'calfw.bin', batch_size=256, flip=True, PCA_acc=True)\n",
    "# ee.on_epoch_end(0)"
   ],
   "metadata": {
    "collapsed": false,
    "ExecuteTime": {
     "end_time": "2024-11-15T18:43:30.466327Z",
     "start_time": "2024-11-15T18:43:30.464434Z"
    }
   },
   "execution_count": 42
  },
  {
   "cell_type": "code",
   "execution_count": 43,
   "metadata": {
    "ExecuteTime": {
     "end_time": "2024-11-15T18:43:32.004753Z",
     "start_time": "2024-11-15T18:43:30.467547Z"
    }
   },
   "outputs": [],
   "source": [
    "Final_model = keras.models.load_model('GN_W1.3_S2_ArcFace_epoch48.h5', compile=False)"
   ]
  },
  {
   "cell_type": "code",
   "execution_count": 44,
   "metadata": {
    "ExecuteTime": {
     "end_time": "2024-11-15T18:43:32.007380Z",
     "start_time": "2024-11-15T18:43:32.005563Z"
    }
   },
   "outputs": [],
   "source": [
    "# #If the above did not work, then you need to build the model then load the weights. e.g.,\n",
    "# basic_model = GhostFaceNets_with_Bias.buildin_models(\"ghostnetv1\", dropout=0, emb_shape=512, output_layer='GDC', bn_momentum=0.9, bn_epsilon=1e-5, scale=True, use_bias=True, strides=1)\n",
    "# basic_model = GhostFaceNets_with_Bias.add_l2_regularizer_2_model(basic_model, weight_decay=5e-4, apply_to_batch_normal=False)\n",
    "# basic_model = GhostFaceNets_with_Bias.replace_ReLU_with_PReLU(basic_model, target_activation='PReLU')\n",
    "# \n",
    "# basic_model.load_weights('GN_W0.5_S2_ArcFace_epoch16.h5', by_name=True, skip_mismatch=True)"
   ]
  },
  {
   "cell_type": "code",
   "execution_count": 45,
   "metadata": {
    "ExecuteTime": {
     "end_time": "2024-11-15T18:44:47.714430Z",
     "start_time": "2024-11-15T18:43:32.008125Z"
    }
   },
   "outputs": [
    {
     "name": "stdout",
     "output_type": "stream",
     "text": []
    },
    {
     "name": "stderr",
     "output_type": "stream",
     "text": [
      "Evaluating lfw: 100%|██████████| 47/47 [01:15<00:00,  1.60s/it]"
     ]
    },
    {
     "name": "stdout",
     "output_type": "stream",
     "text": [
      "\n",
      ">>>> lfw evaluation max accuracy: 0.996000, thresh: 0.226500, previous max accuracy: 0.000000\n",
      ">>>> Improved = 0.996000\n"
     ]
    },
    {
     "name": "stderr",
     "output_type": "stream",
     "text": [
      "\n"
     ]
    }
   ],
   "source": [
    "ee = evals.eval_callback(Final_model, 'lfw.bin', batch_size=256, flip=True, PCA_acc=False)\n",
    "ee.on_epoch_end(0)"
   ]
  },
  {
   "cell_type": "code",
   "outputs": [
    {
     "name": "stdout",
     "output_type": "stream",
     "text": []
    },
    {
     "name": "stderr",
     "output_type": "stream",
     "text": [
      "Evaluating cbam_lfw: 100%|██████████| 47/47 [01:15<00:00,  1.61s/it]"
     ]
    },
    {
     "name": "stdout",
     "output_type": "stream",
     "text": [
      "\n",
      ">>>> cbam_lfw evaluation max accuracy: 0.938000, thresh: 0.392311, previous max accuracy: 0.000000\n",
      ">>>> Improved = 0.938000\n"
     ]
    },
    {
     "name": "stderr",
     "output_type": "stream",
     "text": [
      "\n"
     ]
    }
   ],
   "source": [
    "ee = evals.eval_callback(Final_model, 'cbam_lfw.bin', batch_size=256, flip=True, PCA_acc=False)\n",
    "ee.on_epoch_end(0)"
   ],
   "metadata": {
    "collapsed": false,
    "ExecuteTime": {
     "end_time": "2024-11-15T18:46:03.600239Z",
     "start_time": "2024-11-15T18:44:47.715659Z"
    }
   },
   "execution_count": 46
  },
  {
   "cell_type": "code",
   "outputs": [
    {
     "name": "stdout",
     "output_type": "stream",
     "text": []
    },
    {
     "name": "stderr",
     "output_type": "stream",
     "text": [
      "Evaluating calfw: 100%|██████████| 47/47 [01:17<00:00,  1.65s/it]"
     ]
    },
    {
     "name": "stdout",
     "output_type": "stream",
     "text": [
      "\n",
      ">>>> calfw evaluation max accuracy: 0.543500, thresh: 0.459106, previous max accuracy: 0.000000\n",
      ">>>> Improved = 0.543500\n"
     ]
    },
    {
     "name": "stderr",
     "output_type": "stream",
     "text": [
      "\n"
     ]
    }
   ],
   "source": [
    "ee = evals.eval_callback(Final_model, 'calfw.bin', batch_size=256, flip=True, PCA_acc=False)\n",
    "ee.on_epoch_end(0)"
   ],
   "metadata": {
    "collapsed": false,
    "ExecuteTime": {
     "end_time": "2024-11-15T18:47:21.262824Z",
     "start_time": "2024-11-15T18:46:03.602365Z"
    }
   },
   "execution_count": 47
  },
  {
   "cell_type": "code",
   "outputs": [
    {
     "name": "stdout",
     "output_type": "stream",
     "text": []
    },
    {
     "name": "stderr",
     "output_type": "stream",
     "text": [
      "Evaluating cplfw: 100%|██████████| 47/47 [01:14<00:00,  1.59s/it]"
     ]
    },
    {
     "name": "stdout",
     "output_type": "stream",
     "text": [
      "\n",
      ">>>> cplfw evaluation max accuracy: 0.529167, thresh: 0.476683, previous max accuracy: 0.000000\n",
      ">>>> Improved = 0.529167\n"
     ]
    },
    {
     "name": "stderr",
     "output_type": "stream",
     "text": [
      "\n"
     ]
    }
   ],
   "source": [
    "ee = evals.eval_callback(Final_model, 'cplfw.bin', batch_size=256, flip=True, PCA_acc=False)\n",
    "ee.on_epoch_end(0)"
   ],
   "metadata": {
    "collapsed": false,
    "ExecuteTime": {
     "end_time": "2024-11-15T18:48:36.440864Z",
     "start_time": "2024-11-15T18:47:21.263755Z"
    }
   },
   "execution_count": 48
  },
  {
   "cell_type": "markdown",
   "source": [
    "Plot face quality distribution using norm value of feature"
   ],
   "metadata": {
    "collapsed": false
   }
  },
  {
   "cell_type": "code",
   "outputs": [
    {
     "data": {
      "text/plain": "<Figure size 640x480 with 1 Axes>",
      "image/png": "[encoded data removed]"
     },
     "metadata": {},
     "output_type": "display_data"
    }
   ],
   "source": [
    "cc = tf.norm(ee.embs, axis=1).numpy()\n",
    "_ = plt.hist(cc, bins=512, alpha=0.5, label='lfw quality')\n",
    "plt.legend()\n",
    "plt.tight_layout()"
   ],
   "metadata": {
    "collapsed": false,
    "ExecuteTime": {
     "end_time": "2024-11-15T18:48:36.938524Z",
     "start_time": "2024-11-15T18:48:36.441855Z"
    }
   },
   "execution_count": 49
  },
  {
   "cell_type": "code",
   "outputs": [],
   "source": [],
   "metadata": {
    "collapsed": false,
    "ExecuteTime": {
     "end_time": "2024-11-15T18:48:36.940926Z",
     "start_time": "2024-11-15T18:48:36.939426Z"
    }
   },
   "execution_count": 49
  }
 ],
 "metadata": {
  "kernelspec": {
   "display_name": "Python 3.9.12 64-bit",
   "language": "python",
   "name": "python3"
  },
  "language_info": {
   "codemirror_mode": {
    "name": "ipython",
    "version": 3
   },
   "file_extension": ".py",
   "mimetype": "text/x-python",
   "name": "python",
   "nbconvert_exporter": "python",
   "pygments_lexer": "ipython3",
   "version": "3.9.12"
  },
  "orig_nbformat": 4,
  "vscode": {
   "interpreter": {
    "hash": "81794d4967e6c3204c66dcd87b604927b115b27c00565d3d43f05ba2f3a2cb0d"
   }
  }
 },
 "nbformat": 4,
 "nbformat_minor": 2
}
