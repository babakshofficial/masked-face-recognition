{
 "metadata": {
  "kernelspec": {
   "display_name": "Python 3",
   "name": "python3"
  },
  "language_info": {
   "name": "python",
   "version": "3.10.14",
   "mimetype": "text/x-python",
   "codemirror_mode": {
    "name": "ipython",
    "version": 3
   },
   "pygments_lexer": "ipython3",
   "nbconvert_exporter": "python",
   "file_extension": ".py"
  },
  "kaggle": {
   "accelerator": "nvidiaTeslaT4",
   "dataSources": [],
   "dockerImageVersionId": 30786,
   "isInternetEnabled": true,
   "language": "python",
   "sourceType": "notebook",
   "isGpuEnabled": true
  },
  "colab": {
   "provenance": [],
   "gpuType": "T4"
  },
  "accelerator": "GPU"
 },
 "nbformat_minor": 0,
 "nbformat": 4,
 "cells": [
  {
   "cell_type": "code",
   "source": [
    "import tensorflow as tf\n",
    "from tensorflow.keras.layers import Dense, GlobalAveragePooling2D, Input, Lambda\n",
    "from tensorflow.keras.models import Model, load_model\n",
    "from tensorflow.keras.optimizers import Adam\n",
    "from tensorflow.keras.optimizers import SGD\n",
    "from tensorflow.keras.layers import Conv2D, MaxPooling2D, ZeroPadding2D, AveragePooling2D\n",
    "from tensorflow.keras.layers import Flatten, Activation, BatchNormalization, add\n",
    "import h5py\n",
    "# from tensorflow.keras.optimizers.legacy import Adam\n",
    "from tensorflow.keras.preprocessing.image import ImageDataGenerator\n",
    "import numpy as np\n",
    "from sklearn.model_selection import train_test_split\n",
    "import cv2\n",
    "import os\n",
    "import random\n",
    "import h5py\n",
    "from tensorflow.keras.models import model_from_json\n",
    "print(tf.__version__)"
   ],
   "metadata": {
    "trusted": true,
    "id": "FuiaY6rX3NW9",
    "colab": {
     "base_uri": "https://localhost:8080/"
    },
    "outputId": "5c4b8917-6b8c-4afd-adf7-69c64a962d5b"
   },
   "execution_count": null,
   "outputs": [
    {
     "output_type": "stream",
     "name": "stdout",
     "text": [
      "2.17.0\n"
     ]
    }
   ]
  },
  {
   "cell_type": "code",
   "source": [
    "import tensorflow as tf\n",
    "\n",
    "device_name = tf.test.gpu_device_name()\n",
    "\n",
    "if \"GPU\" not in device_name:\n",
    "    print(\"GPU device not found\")\n",
    "\n",
    "print('Found GPU at: {}'.format(device_name))\n",
    "\n",
    "print(\"GPU\", \"available (YESS!!!!)\" if tf.config.list_physical_devices(\"GPU\") else \"not available :(\")"
   ],
   "metadata": {
    "trusted": true,
    "colab": {
     "base_uri": "https://localhost:8080/"
    },
    "id": "2FLVo_bj3NW-",
    "outputId": "cc2d4b88-2f2b-41d7-bd74-b34480e875aa"
   },
   "execution_count": null,
   "outputs": [
    {
     "output_type": "stream",
     "name": "stdout",
     "text": [
      "Found GPU at: /device:GPU:0\n",
      "GPU available (YESS!!!!)\n"
     ]
    }
   ]
  },
  {
   "cell_type": "code",
   "source": [
    "!nvidia-smi"
   ],
   "metadata": {
    "trusted": true,
    "colab": {
     "base_uri": "https://localhost:8080/"
    },
    "id": "azcVbK9B3NW_",
    "outputId": "0d17d4d8-ee86-4902-9c06-65be9a9af4c2"
   },
   "execution_count": null,
   "outputs": [
    {
     "output_type": "stream",
     "name": "stdout",
     "text": [
      "Wed Oct  9 12:17:11 2024       \n",
      "+---------------------------------------------------------------------------------------+\n",
      "| NVIDIA-SMI 535.104.05             Driver Version: 535.104.05   CUDA Version: 12.2     |\n",
      "|-----------------------------------------+----------------------+----------------------+\n",
      "| GPU  Name                 Persistence-M | Bus-Id        Disp.A | Volatile Uncorr. ECC |\n",
      "| Fan  Temp   Perf          Pwr:Usage/Cap |         Memory-Usage | GPU-Util  Compute M. |\n",
      "|                                         |                      |               MIG M. |\n",
      "|=========================================+======================+======================|\n",
      "|   0  Tesla T4                       Off | 00000000:00:04.0 Off |                    0 |\n",
      "| N/A   39C    P0              25W /  70W |    103MiB / 15360MiB |      2%      Default |\n",
      "|                                         |                      |                  N/A |\n",
      "+-----------------------------------------+----------------------+----------------------+\n",
      "                                                                                         \n",
      "+---------------------------------------------------------------------------------------+\n",
      "| Processes:                                                                            |\n",
      "|  GPU   GI   CI        PID   Type   Process name                            GPU Memory |\n",
      "|        ID   ID                                                             Usage      |\n",
      "|=======================================================================================|\n",
      "+---------------------------------------------------------------------------------------+\n"
     ]
    }
   ]
  },
  {
   "cell_type": "code",
   "source": [
    "from google.colab import drive\n",
    "drive.mount('/content/gdrive')\n",
    "\n",
    "# url = \"http://vis-www.cs.umass.edu/lfw/lfw-funneled.tgz\"\n",
    "# destination_folder = \"/content/gdrive/MyDrive\"\n",
    "# filename = \"lfw-funneled.tgz\"\n",
    "\n",
    "# target = f'{destination_folder}/{filename}'\n",
    "# !gdown -O $target \"$url\""
   ],
   "metadata": {
    "colab": {
     "base_uri": "https://localhost:8080/"
    },
    "id": "UvKDoVp1vnjB",
    "outputId": "c448f704-c1a9-4f30-cfec-31513ffcb660"
   },
   "execution_count": null,
   "outputs": [
    {
     "output_type": "stream",
     "name": "stdout",
     "text": [
      "Mounted at /content/gdrive\n"
     ]
    }
   ]
  },
  {
   "cell_type": "code",
   "source": [
    "# !gdown --id 1cSDdwsCbshVPy5V9n7-BRfxxXzGIh_hH\n",
    "!gdown --id 1AHVpuB24lKAqNyRRjhX7ABlEor6ByZlS\n",
    "!mkdir lfw\n",
    "# !wget -c http://vis-www.cs.umass.edu/lfw/lfw-funneled.tgz\n",
    "!tar -xzf /content/gdrive/MyDrive/lfw-funneled.tgz -C lfw\n",
    "!unzip vggface2_Keras.zip"
   ],
   "metadata": {
    "trusted": true,
    "colab": {
     "base_uri": "https://localhost:8080/"
    },
    "id": "fcPxiDn83NXA",
    "outputId": "6e19da09-2661-4f20-e352-586904aabfba"
   },
   "execution_count": null,
   "outputs": [
    {
     "output_type": "stream",
     "name": "stdout",
     "text": [
      "/usr/local/lib/python3.10/dist-packages/gdown/__main__.py:140: FutureWarning: Option `--id` was deprecated in version 4.3.1 and will be removed in 5.0. You don't need to pass it anymore to use a file ID.\n",
      "  warnings.warn(\n",
      "Downloading...\n",
      "From (original): https://drive.google.com/uc?id=1AHVpuB24lKAqNyRRjhX7ABlEor6ByZlS\n",
      "From (redirected): https://drive.google.com/uc?id=1AHVpuB24lKAqNyRRjhX7ABlEor6ByZlS&confirm=t&uuid=8e047c30-c3d1-4d8b-84f2-77574503eaf6\n",
      "To: /content/vggface2_Keras.zip\n",
      "100% 146M/146M [00:00<00:00, 209MB/s]\n",
      "Archive:  vggface2_Keras.zip\n",
      "   creating: vggface2_Keras/\n",
      "  inflating: vggface2_Keras/.DS_Store  \n",
      "   creating: __MACOSX/\n",
      "   creating: __MACOSX/vggface2_Keras/\n",
      "  inflating: __MACOSX/vggface2_Keras/._.DS_Store  \n",
      "   creating: vggface2_Keras/meta/\n",
      "  inflating: vggface2_Keras/meta/.DS_Store  \n",
      "   creating: __MACOSX/vggface2_Keras/meta/\n",
      "  inflating: __MACOSX/vggface2_Keras/meta/._.DS_Store  \n",
      "  inflating: vggface2_Keras/meta/ijbb_template_pair_label.txt  \n",
      "  inflating: vggface2_Keras/meta/ijbb_face_tid_mid.txt  \n",
      "  inflating: vggface2_Keras/README.md  \n",
      "   creating: vggface2_Keras/model/\n",
      "  inflating: vggface2_Keras/model/.DS_Store  \n",
      "   creating: __MACOSX/vggface2_Keras/model/\n",
      "  inflating: __MACOSX/vggface2_Keras/model/._.DS_Store  \n",
      "   creating: vggface2_Keras/model/resnet50_softmax_dim512/\n",
      "  inflating: vggface2_Keras/model/resnet50_softmax_dim512/weights.h5  \n",
      "   creating: __MACOSX/vggface2_Keras/model/resnet50_softmax_dim512/\n",
      "  inflating: __MACOSX/vggface2_Keras/model/resnet50_softmax_dim512/._weights.h5  \n",
      "   creating: vggface2_Keras/tool/\n",
      "  inflating: vggface2_Keras/tool/toolkits.py  \n",
      "  inflating: vggface2_Keras/tool/.DS_Store  \n",
      "   creating: __MACOSX/vggface2_Keras/tool/\n",
      "  inflating: __MACOSX/vggface2_Keras/tool/._.DS_Store  \n",
      "   creating: vggface2_Keras/src/\n",
      "  inflating: vggface2_Keras/src/.DS_Store  \n",
      "   creating: __MACOSX/vggface2_Keras/src/\n",
      "  inflating: __MACOSX/vggface2_Keras/src/._.DS_Store  \n",
      "  inflating: vggface2_Keras/src/config.py  \n",
      "  inflating: vggface2_Keras/src/predict.py  \n",
      "  inflating: __MACOSX/vggface2_Keras/src/._predict.py  \n",
      "  inflating: vggface2_Keras/src/model.py  \n",
      "  inflating: vggface2_Keras/src/resnet.py  \n",
      "  inflating: vggface2_Keras/src/.gitignore  \n",
      "  inflating: vggface2_Keras/src/utils.py  \n",
      "  inflating: __MACOSX/vggface2_Keras/src/._utils.py  \n"
     ]
    }
   ]
  },
  {
   "cell_type": "code",
   "source": [
    "mlfw_dir = '/content/lfw/lfw_funneled'\n",
    "pairs_file = '/content/lfw/lfw_funneled/pairs.txt'\n",
    "h5_path = '/content/vggface2_Keras/model/resnet50_softmax_dim512/weights.h5'"
   ],
   "metadata": {
    "trusted": true,
    "id": "I7JPIzSe3NXB"
   },
   "execution_count": null,
   "outputs": []
  },
  {
   "cell_type": "code",
   "source": [
    "# Configuration\n",
    "IMG_SIZE = (224, 224)\n",
    "BATCH_SIZE = 32\n",
    "EPOCHS = 100\n",
    "LR = 0.0001"
   ],
   "metadata": {
    "trusted": true,
    "id": "U_cqU5HI3NXC"
   },
   "execution_count": null,
   "outputs": []
  },
  {
   "cell_type": "code",
   "source": [],
   "metadata": {
    "id": "KUMyha7mZKo6"
   },
   "execution_count": null,
   "outputs": []
  },
  {
   "cell_type": "code",
   "source": [],
   "metadata": {
    "id": "c0YI0AYSZPqb"
   },
   "execution_count": null,
   "outputs": []
  },
  {
   "cell_type": "code",
   "source": [
    "def sanitize_name(name):\n",
    "    return name.replace('/', '_').replace(' ', '_')"
   ],
   "metadata": {
    "id": "98F_CV8YbH_z"
   },
   "execution_count": null,
   "outputs": []
  },
  {
   "cell_type": "code",
   "source": [],
   "metadata": {
    "id": "6DqMUfU_arxE"
   },
   "execution_count": null,
   "outputs": []
  },
  {
   "cell_type": "code",
   "source": [
    "def identity_block(input_tensor, kernel_size, filters, stage, block):\n",
    "    filters1, filters2, filters3 = filters\n",
    "    conv_name_base = f'res{stage}{block}_branch'\n",
    "    bn_name_base = f'bn{stage}{block}_branch'\n",
    "\n",
    "    x = Conv2D(filters1, (1, 1), name=conv_name_base + '2a')(input_tensor)\n",
    "    x = BatchNormalization(name=bn_name_base + '2a')(x)\n",
    "    x = Activation('relu')(x)\n",
    "\n",
    "    x = Conv2D(filters2, kernel_size, padding='same', name=conv_name_base + '2b')(x)\n",
    "    x = BatchNormalization(name=bn_name_base + '2b')(x)\n",
    "    x = Activation('relu')(x)\n",
    "\n",
    "    x = Conv2D(filters3, (1, 1), name=conv_name_base + '2c')(x)\n",
    "    x = BatchNormalization(name=bn_name_base + '2c')(x)\n",
    "\n",
    "    x = add([x, input_tensor])\n",
    "    x = Activation('relu')(x)\n",
    "    return x"
   ],
   "metadata": {
    "id": "GICJKgSQdBCe"
   },
   "execution_count": null,
   "outputs": []
  },
  {
   "cell_type": "code",
   "source": [
    "def conv_block(input_tensor, kernel_size, filters, stage, block, strides=(2, 2)):\n",
    "    filters1, filters2, filters3 = filters\n",
    "    conv_name_base = f'res{stage}{block}_branch'\n",
    "    bn_name_base = f'bn{stage}{block}_branch'\n",
    "\n",
    "    x = Conv2D(filters1, (1, 1), strides=strides, name=conv_name_base + '2a')(input_tensor)\n",
    "    x = BatchNormalization(name=bn_name_base + '2a')(x)\n",
    "    x = Activation('relu')(x)\n",
    "\n",
    "    x = Conv2D(filters2, kernel_size, padding='same', name=conv_name_base + '2b')(x)\n",
    "    x = BatchNormalization(name=bn_name_base + '2b')(x)\n",
    "    x = Activation('relu')(x)\n",
    "\n",
    "    x = Conv2D(filters3, (1, 1), name=conv_name_base + '2c')(x)\n",
    "    x = BatchNormalization(name=bn_name_base + '2c')(x)\n",
    "\n",
    "    shortcut = Conv2D(filters3, (1, 1), strides=strides, name=conv_name_base + '1')(input_tensor)\n",
    "    shortcut = BatchNormalization(name=bn_name_base + '1')(shortcut)\n",
    "\n",
    "    x = add([x, shortcut])\n",
    "    x = Activation('relu')(x)\n",
    "    return x"
   ],
   "metadata": {
    "id": "nYGEfO8Ic-BD"
   },
   "execution_count": null,
   "outputs": []
  },
  {
   "cell_type": "code",
   "source": [
    "def ResNet50():\n",
    "    img_input = Input(shape=(224, 224, 3))\n",
    "\n",
    "    x = ZeroPadding2D((3, 3))(img_input)\n",
    "    x = Conv2D(64, (7, 7), strides=(2, 2), name='conv1')(x)\n",
    "    x = BatchNormalization(name='bn_conv1')(x)\n",
    "    x = Activation('relu')(x)\n",
    "    x = MaxPooling2D((3, 3), strides=(2, 2))(x)\n",
    "\n",
    "    x = conv_block(x, 3, [64, 64, 256], stage=2, block='a', strides=(1, 1))\n",
    "    x = identity_block(x, 3, [64, 64, 256], stage=2, block='b')\n",
    "    x = identity_block(x, 3, [64, 64, 256], stage=2, block='c')\n",
    "\n",
    "    x = conv_block(x, 3, [128, 128, 512], stage=3, block='a')\n",
    "    x = identity_block(x, 3, [128, 128, 512], stage=3, block='b')\n",
    "    x = identity_block(x, 3, [128, 128, 512], stage=3, block='c')\n",
    "    x = identity_block(x, 3, [128, 128, 512], stage=3, block='d')\n",
    "\n",
    "    x = conv_block(x, 3, [256, 256, 1024], stage=4, block='a')\n",
    "    x = identity_block(x, 3, [256, 256, 1024], stage=4, block='b')\n",
    "    x = identity_block(x, 3, [256, 256, 1024], stage=4, block='c')\n",
    "    x = identity_block(x, 3, [256, 256, 1024], stage=4, block='d')\n",
    "    x = identity_block(x, 3, [256, 256, 1024], stage=4, block='e')\n",
    "    x = identity_block(x, 3, [256, 256, 1024], stage=4, block='f')\n",
    "\n",
    "    x = conv_block(x, 3, [512, 512, 2048], stage=5, block='a')\n",
    "    x = identity_block(x, 3, [512, 512, 2048], stage=5, block='b')\n",
    "    x = identity_block(x, 3, [512, 512, 2048], stage=5, block='c')\n",
    "\n",
    "    x = AveragePooling2D((7, 7), name='avg_pool')(x)\n",
    "    x = Flatten()(x)\n",
    "    x = Dense(512, activation='softmax', name='classifier')(x)\n",
    "\n",
    "    model = Model(img_input, x, name='vggface_resnet50')\n",
    "    return model"
   ],
   "metadata": {
    "id": "X7kYm8zac4H7"
   },
   "execution_count": null,
   "outputs": []
  },
  {
   "cell_type": "code",
   "source": [
    "def load_weights_from_h5(model, weights_path):\n",
    "    with h5py.File(weights_path, 'r') as f:\n",
    "        for layer in model.layers:\n",
    "            if layer.name in f:\n",
    "                layer_weights = []\n",
    "                for w in f[layer.name]:\n",
    "                    layer_weights.append(f[layer.name][w][:])\n",
    "                layer.set_weights(layer_weights)\n",
    "    print(f\"Weights loaded from {weights_path}\")"
   ],
   "metadata": {
    "id": "kluUX5SMcwpQ"
   },
   "execution_count": null,
   "outputs": []
  },
  {
   "cell_type": "code",
   "source": [
    "def load_base_model(weights_path):\n",
    "    base_model = ResNet50()\n",
    "    load_weights_from_h5(base_model, weights_path)\n",
    "\n",
    "    # Get the output of the loaded model (before the classifier layer)\n",
    "    x = base_model.layers[-2].output\n",
    "    # Add a dense layer to reduce dimensionality to 128\n",
    "    x = Dense(128, activation='relu', name='embedding')(x)\n",
    "    model = Model(inputs=base_model.input, outputs=x)\n",
    "    return model"
   ],
   "metadata": {
    "trusted": true,
    "id": "OxB0gyob3NXC"
   },
   "execution_count": null,
   "outputs": []
  },
  {
   "cell_type": "code",
   "source": [
    "def create_siamese_model(input_shape, weights_path):\n",
    "    base_network = load_base_model(weights_path)\n",
    "\n",
    "    input_a = Input(shape=input_shape)\n",
    "    input_b = Input(shape=input_shape)\n",
    "\n",
    "    # Generate embeddings for both inputs\n",
    "    embedding_a = base_network(input_a)\n",
    "    embedding_b = base_network(input_b)\n",
    "\n",
    "    # Calculate L1 distance between embeddings\n",
    "    l1_distance = tf.keras.layers.Lambda(lambda x: tf.abs(x[0] - x[1]))([embedding_a, embedding_b])\n",
    "\n",
    "    # Final classification layer\n",
    "    prediction = Dense(1, activation='sigmoid')(l1_distance)\n",
    "\n",
    "    return Model(inputs=[input_a, input_b], outputs=prediction)"
   ],
   "metadata": {
    "trusted": true,
    "id": "YaDEq9O23NXD"
   },
   "execution_count": null,
   "outputs": []
  },
  {
   "cell_type": "code",
   "source": [
    "def load_mlfw_pairs(mlfw_dir, pairs_file):\n",
    "    def load_image(image_path):\n",
    "        img = cv2.imread(image_path)\n",
    "        img = cv2.resize(img, IMG_SIZE)\n",
    "        img = cv2.cvtColor(img, cv2.COLOR_BGR2RGB)\n",
    "        return img\n",
    "\n",
    "    pairs = []\n",
    "    with open(pairs_file, 'r') as f:\n",
    "        for line in f:\n",
    "            pair = line.strip().split()\n",
    "            if len(pair) == 3:\n",
    "                # Same person\n",
    "                name, img1_id, img2_id = pair\n",
    "                img1_path = os.path.join(mlfw_dir, name, f\"{name}_{img1_id.zfill(4)}.jpg\")\n",
    "                img2_path = os.path.join(mlfw_dir, name, f\"{name}_{img2_id.zfill(4)}.jpg\")\n",
    "                pairs.append((img1_path, img2_path, 1))\n",
    "            elif len(pair) == 4:\n",
    "                # Different people\n",
    "                name1, img1_id, name2, img2_id = pair\n",
    "                img1_path = os.path.join(mlfw_dir, name1, f\"{name1}_{img1_id.zfill(4)}.jpg\")\n",
    "                img2_path = os.path.join(mlfw_dir, name2, f\"{name2}_{img2_id.zfill(4)}.jpg\")\n",
    "                pairs.append((img1_path, img2_path, 0))\n",
    "\n",
    "    random.shuffle(pairs)\n",
    "\n",
    "    X1, X2, y = [], [], []\n",
    "    for img1_path, img2_path, label in pairs:\n",
    "        img1 = load_image(img1_path)\n",
    "        img2 = load_image(img2_path)\n",
    "        X1.append(img1)\n",
    "        X2.append(img2)\n",
    "        y.append(label)\n",
    "    print('Loaded data from {}'.format(mlfw_dir))\n",
    "    return np.array(X1), np.array(X2), np.array(y)"
   ],
   "metadata": {
    "trusted": true,
    "id": "X2zPXaPM3NXF"
   },
   "execution_count": null,
   "outputs": []
  },
  {
   "cell_type": "code",
   "source": [
    "# Function to verify two face images\n",
    "def verify_faces(img1, img2):\n",
    "    img1 = tf.keras.applications.resnet50.preprocess_input(img1)\n",
    "    img2 = tf.keras.applications.resnet50.preprocess_input(img2)\n",
    "    prediction = siamese_model.predict([np.expand_dims(img1, axis=0), np.expand_dims(img2, axis=0)])\n",
    "    return prediction[0][0]"
   ],
   "metadata": {
    "trusted": true,
    "id": "VPSqgSRJ3NXG"
   },
   "execution_count": null,
   "outputs": []
  },
  {
   "cell_type": "code",
   "source": [
    "# Create and compile the model\n",
    "siamese_model = create_siamese_model((*IMG_SIZE, 3), h5_path)\n",
    "siamese_model.compile(optimizer=Adam(LR), loss='binary_crossentropy', metrics=['accuracy'])"
   ],
   "metadata": {
    "trusted": true,
    "colab": {
     "base_uri": "https://localhost:8080/"
    },
    "id": "S_-GAhqC3NXH",
    "outputId": "563b6ac9-fc4f-47c5-dc7f-25304ffa3787"
   },
   "execution_count": null,
   "outputs": [
    {
     "output_type": "stream",
     "name": "stdout",
     "text": [
      "Weights loaded from /content/vggface2_Keras/model/resnet50_softmax_dim512/weights.h5\n"
     ]
    }
   ]
  },
  {
   "cell_type": "code",
   "source": [
    "# Load and preprocess data\n",
    "X1, X2, y = load_mlfw_pairs(mlfw_dir, pairs_file)\n",
    "\n",
    "# Split data\n",
    "X1_train, X1_test, X2_train, X2_test, y_train, y_test = train_test_split(X1, X2, y, test_size=0.2, random_state=42)\n"
   ],
   "metadata": {
    "trusted": true,
    "colab": {
     "base_uri": "https://localhost:8080/"
    },
    "id": "EJjjiMin3NXI",
    "outputId": "5b6c89d7-3882-4c81-f76f-4d46e986d6a6"
   },
   "execution_count": null,
   "outputs": [
    {
     "output_type": "stream",
     "name": "stdout",
     "text": [
      "Loaded data from /content/lfw/lfw_funneled\n"
     ]
    }
   ]
  },
  {
   "cell_type": "code",
   "source": [
    "# Data augmentation for training\n",
    "train_datagen = ImageDataGenerator(\n",
    "    rotation_range=20,\n",
    "    width_shift_range=0.2,\n",
    "    height_shift_range=0.2,\n",
    "    horizontal_flip=True,\n",
    "    preprocessing_function=tf.keras.applications.resnet50.preprocess_input\n",
    ")\n"
   ],
   "metadata": {
    "trusted": true,
    "id": "DXfwniWA3NXJ"
   },
   "execution_count": null,
   "outputs": []
  },
  {
   "cell_type": "code",
   "source": [
    "# Training\n",
    "history = siamese_model.fit(\n",
    "    [X1_train, X2_train], y_train,\n",
    "    validation_data=([X1_test, X2_test], y_test),\n",
    "    epochs=EPOCHS,\n",
    "    batch_size=BATCH_SIZE\n",
    ")"
   ],
   "metadata": {
    "trusted": true,
    "colab": {
     "base_uri": "https://localhost:8080/"
    },
    "id": "fquef0h-3NXK",
    "outputId": "5a31ffe8-bf63-491a-f2c5-7c6333e70b15"
   },
   "execution_count": null,
   "outputs": [
    {
     "output_type": "stream",
     "name": "stdout",
     "text": [
      "Epoch 1/100\n",
      "\u001B[1m150/150\u001B[0m \u001B[32m━━━━━━━━━━━━━━━━━━━━\u001B[0m\u001B[37m\u001B[0m \u001B[1m173s\u001B[0m 607ms/step - accuracy: 0.5212 - loss: 0.7649 - val_accuracy: 0.4858 - val_loss: 0.7002\n",
      "Epoch 2/100\n",
      "\u001B[1m150/150\u001B[0m \u001B[32m━━━━━━━━━━━━━━━━━━━━\u001B[0m\u001B[37m\u001B[0m \u001B[1m95s\u001B[0m 597ms/step - accuracy: 0.5300 - loss: 0.7064 - val_accuracy: 0.5242 - val_loss: 0.7088\n",
      "Epoch 3/100\n",
      "\u001B[1m150/150\u001B[0m \u001B[32m━━━━━━━━━━━━━━━━━━━━\u001B[0m\u001B[37m\u001B[0m \u001B[1m147s\u001B[0m 631ms/step - accuracy: 0.5442 - loss: 0.6950 - val_accuracy: 0.5275 - val_loss: 0.6936\n",
      "Epoch 4/100\n",
      "\u001B[1m150/150\u001B[0m \u001B[32m━━━━━━━━━━━━━━━━━━━━\u001B[0m\u001B[37m\u001B[0m \u001B[1m133s\u001B[0m 571ms/step - accuracy: 0.5320 - loss: 0.6946 - val_accuracy: 0.5092 - val_loss: 0.7198\n",
      "Epoch 5/100\n",
      "\u001B[1m150/150\u001B[0m \u001B[32m━━━━━━━━━━━━━━━━━━━━\u001B[0m\u001B[37m\u001B[0m \u001B[1m151s\u001B[0m 631ms/step - accuracy: 0.5821 - loss: 0.6782 - val_accuracy: 0.5417 - val_loss: 0.7005\n",
      "Epoch 6/100\n",
      "\u001B[1m150/150\u001B[0m \u001B[32m━━━━━━━━━━━━━━━━━━━━\u001B[0m\u001B[37m\u001B[0m \u001B[1m138s\u001B[0m 603ms/step - accuracy: 0.5806 - loss: 0.6737 - val_accuracy: 0.5783 - val_loss: 0.6853\n",
      "Epoch 7/100\n",
      "\u001B[1m150/150\u001B[0m \u001B[32m━━━━━━━━━━━━━━━━━━━━\u001B[0m\u001B[37m\u001B[0m \u001B[1m141s\u001B[0m 593ms/step - accuracy: 0.5958 - loss: 0.6644 - val_accuracy: 0.5317 - val_loss: 0.7391\n",
      "Epoch 8/100\n",
      "\u001B[1m150/150\u001B[0m \u001B[32m━━━━━━━━━━━━━━━━━━━━\u001B[0m\u001B[37m\u001B[0m \u001B[1m90s\u001B[0m 603ms/step - accuracy: 0.6267 - loss: 0.6426 - val_accuracy: 0.5708 - val_loss: 0.6732\n",
      "Epoch 9/100\n",
      "\u001B[1m150/150\u001B[0m \u001B[32m━━━━━━━━━━━━━━━━━━━━\u001B[0m\u001B[37m\u001B[0m \u001B[1m95s\u001B[0m 631ms/step - accuracy: 0.6451 - loss: 0.6211 - val_accuracy: 0.6117 - val_loss: 0.6591\n",
      "Epoch 10/100\n",
      "\u001B[1m150/150\u001B[0m \u001B[32m━━━━━━━━━━━━━━━━━━━━\u001B[0m\u001B[37m\u001B[0m \u001B[1m138s\u001B[0m 604ms/step - accuracy: 0.6583 - loss: 0.6091 - val_accuracy: 0.6100 - val_loss: 0.6682\n",
      "Epoch 11/100\n",
      "\u001B[1m150/150\u001B[0m \u001B[32m━━━━━━━━━━━━━━━━━━━━\u001B[0m\u001B[37m\u001B[0m \u001B[1m137s\u001B[0m 573ms/step - accuracy: 0.7021 - loss: 0.5764 - val_accuracy: 0.5808 - val_loss: 0.7187\n",
      "Epoch 12/100\n",
      "\u001B[1m150/150\u001B[0m \u001B[32m━━━━━━━━━━━━━━━━━━━━\u001B[0m\u001B[37m\u001B[0m \u001B[1m147s\u001B[0m 604ms/step - accuracy: 0.7166 - loss: 0.5514 - val_accuracy: 0.6275 - val_loss: 0.6713\n",
      "Epoch 13/100\n",
      "\u001B[1m150/150\u001B[0m \u001B[32m━━━━━━━━━━━━━━━━━━━━\u001B[0m\u001B[37m\u001B[0m \u001B[1m142s\u001B[0m 603ms/step - accuracy: 0.7478 - loss: 0.5132 - val_accuracy: 0.6008 - val_loss: 0.7173\n",
      "Epoch 14/100\n",
      "\u001B[1m150/150\u001B[0m \u001B[32m━━━━━━━━━━━━━━━━━━━━\u001B[0m\u001B[37m\u001B[0m \u001B[1m139s\u001B[0m 586ms/step - accuracy: 0.7412 - loss: 0.5057 - val_accuracy: 0.6525 - val_loss: 0.6366\n",
      "Epoch 15/100\n",
      "\u001B[1m150/150\u001B[0m \u001B[32m━━━━━━━━━━━━━━━━━━━━\u001B[0m\u001B[37m\u001B[0m \u001B[1m149s\u001B[0m 633ms/step - accuracy: 0.7869 - loss: 0.4547 - val_accuracy: 0.6675 - val_loss: 0.6275\n",
      "Epoch 16/100\n",
      "\u001B[1m150/150\u001B[0m \u001B[32m━━━━━━━━━━━━━━━━━━━━\u001B[0m\u001B[37m\u001B[0m \u001B[1m137s\u001B[0m 601ms/step - accuracy: 0.8149 - loss: 0.4139 - val_accuracy: 0.6567 - val_loss: 0.6518\n",
      "Epoch 17/100\n",
      "\u001B[1m150/150\u001B[0m \u001B[32m━━━━━━━━━━━━━━━━━━━━\u001B[0m\u001B[37m\u001B[0m \u001B[1m142s\u001B[0m 602ms/step - accuracy: 0.8340 - loss: 0.3774 - val_accuracy: 0.7042 - val_loss: 0.6117\n",
      "Epoch 18/100\n",
      "\u001B[1m150/150\u001B[0m \u001B[32m━━━━━━━━━━━━━━━━━━━━\u001B[0m\u001B[37m\u001B[0m \u001B[1m95s\u001B[0m 631ms/step - accuracy: 0.8315 - loss: 0.3659 - val_accuracy: 0.6833 - val_loss: 0.6701\n",
      "Epoch 19/100\n",
      "\u001B[1m150/150\u001B[0m \u001B[32m━━━━━━━━━━━━━━━━━━━━\u001B[0m\u001B[37m\u001B[0m \u001B[1m138s\u001B[0m 603ms/step - accuracy: 0.8824 - loss: 0.3064 - val_accuracy: 0.7025 - val_loss: 0.6447\n",
      "Epoch 20/100\n",
      "\u001B[1m150/150\u001B[0m \u001B[32m━━━━━━━━━━━━━━━━━━━━\u001B[0m\u001B[37m\u001B[0m \u001B[1m146s\u001B[0m 631ms/step - accuracy: 0.8852 - loss: 0.2891 - val_accuracy: 0.6792 - val_loss: 0.7659\n",
      "Epoch 21/100\n",
      "\u001B[1m150/150\u001B[0m \u001B[32m━━━━━━━━━━━━━━━━━━━━\u001B[0m\u001B[37m\u001B[0m \u001B[1m138s\u001B[0m 603ms/step - accuracy: 0.8812 - loss: 0.2822 - val_accuracy: 0.7025 - val_loss: 0.6589\n",
      "Epoch 22/100\n",
      "\u001B[1m150/150\u001B[0m \u001B[32m━━━━━━━━━━━━━━━━━━━━\u001B[0m\u001B[37m\u001B[0m \u001B[1m142s\u001B[0m 603ms/step - accuracy: 0.9056 - loss: 0.2297 - val_accuracy: 0.6950 - val_loss: 0.7515\n",
      "Epoch 23/100\n",
      "\u001B[1m150/150\u001B[0m \u001B[32m━━━━━━━━━━━━━━━━━━━━\u001B[0m\u001B[37m\u001B[0m \u001B[1m142s\u001B[0m 602ms/step - accuracy: 0.9094 - loss: 0.2220 - val_accuracy: 0.6892 - val_loss: 0.7836\n",
      "Epoch 24/100\n",
      "\u001B[1m150/150\u001B[0m \u001B[32m━━━━━━━━━━━━━━━━━━━━\u001B[0m\u001B[37m\u001B[0m \u001B[1m90s\u001B[0m 602ms/step - accuracy: 0.9324 - loss: 0.1699 - val_accuracy: 0.6958 - val_loss: 0.7970\n",
      "Epoch 25/100\n",
      "\u001B[1m150/150\u001B[0m \u001B[32m━━━━━━━━━━━━━━━━━━━━\u001B[0m\u001B[37m\u001B[0m \u001B[1m142s\u001B[0m 602ms/step - accuracy: 0.9276 - loss: 0.1803 - val_accuracy: 0.6842 - val_loss: 0.7841\n",
      "Epoch 26/100\n",
      "\u001B[1m150/150\u001B[0m \u001B[32m━━━━━━━━━━━━━━━━━━━━\u001B[0m\u001B[37m\u001B[0m \u001B[1m90s\u001B[0m 603ms/step - accuracy: 0.9455 - loss: 0.1389 - val_accuracy: 0.7100 - val_loss: 0.7988\n",
      "Epoch 27/100\n",
      "\u001B[1m150/150\u001B[0m \u001B[32m━━━━━━━━━━━━━━━━━━━━\u001B[0m\u001B[37m\u001B[0m \u001B[1m142s\u001B[0m 603ms/step - accuracy: 0.9610 - loss: 0.1128 - val_accuracy: 0.6925 - val_loss: 0.8841\n",
      "Epoch 28/100\n",
      "\u001B[1m150/150\u001B[0m \u001B[32m━━━━━━━━━━━━━━━━━━━━\u001B[0m\u001B[37m\u001B[0m \u001B[1m95s\u001B[0m 631ms/step - accuracy: 0.9655 - loss: 0.0982 - val_accuracy: 0.7067 - val_loss: 0.8316\n",
      "Epoch 29/100\n",
      "\u001B[1m150/150\u001B[0m \u001B[32m━━━━━━━━━━━━━━━━━━━━\u001B[0m\u001B[37m\u001B[0m \u001B[1m142s\u001B[0m 631ms/step - accuracy: 0.9455 - loss: 0.1336 - val_accuracy: 0.6983 - val_loss: 0.9230\n",
      "Epoch 30/100\n",
      "\u001B[1m150/150\u001B[0m \u001B[32m━━━━━━━━━━━━━━━━━━━━\u001B[0m\u001B[37m\u001B[0m \u001B[1m95s\u001B[0m 631ms/step - accuracy: 0.9480 - loss: 0.1346 - val_accuracy: 0.7150 - val_loss: 0.8467\n",
      "Epoch 31/100\n",
      "\u001B[1m150/150\u001B[0m \u001B[32m━━━━━━━━━━━━━━━━━━━━\u001B[0m\u001B[37m\u001B[0m \u001B[1m142s\u001B[0m 631ms/step - accuracy: 0.9694 - loss: 0.0798 - val_accuracy: 0.7117 - val_loss: 0.9730\n",
      "Epoch 32/100\n",
      "\u001B[1m150/150\u001B[0m \u001B[32m━━━━━━━━━━━━━━━━━━━━\u001B[0m\u001B[37m\u001B[0m \u001B[1m95s\u001B[0m 631ms/step - accuracy: 0.9619 - loss: 0.0965 - val_accuracy: 0.7058 - val_loss: 0.9932\n",
      "Epoch 33/100\n",
      "\u001B[1m150/150\u001B[0m \u001B[32m━━━━━━━━━━━━━━━━━━━━\u001B[0m\u001B[37m\u001B[0m \u001B[1m142s\u001B[0m 631ms/step - accuracy: 0.9546 - loss: 0.1232 - val_accuracy: 0.7108 - val_loss: 0.9261\n",
      "Epoch 34/100\n",
      "\u001B[1m150/150\u001B[0m \u001B[32m━━━━━━━━━━━━━━━━━━━━\u001B[0m\u001B[37m\u001B[0m \u001B[1m142s\u001B[0m 630ms/step - accuracy: 0.9699 - loss: 0.0858 - val_accuracy: 0.7158 - val_loss: 0.8955\n",
      "Epoch 35/100\n"
     ]
    }
   ]
  },
  {
   "cell_type": "code",
   "source": [
    "# Evaluation\n",
    "test_loss, test_accuracy = siamese_model.evaluate([X1_test, X2_test], y_test)\n",
    "print(f\"Test accuracy: {test_accuracy:.4f}\")"
   ],
   "metadata": {
    "trusted": true,
    "id": "_xWhBx1L3NXL"
   },
   "execution_count": null,
   "outputs": []
  }
 ]
}
